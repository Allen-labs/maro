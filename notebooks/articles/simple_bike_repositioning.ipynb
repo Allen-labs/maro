{
 "cells": [
  {
   "cell_type": "markdown",
   "metadata": {},
   "source": [
    "# The Simple Bike Repositioning Scenario\n"
   ]
  },
  {
   "cell_type": "code",
   "execution_count": 1,
   "metadata": {},
   "outputs": [],
   "source": [
    "import random\n",
    "from math import sin\n",
    "from typing import List\n",
    "\n",
    "from maro.backends.frame import NodeAttribute, NodeBase, node, FrameBase, FrameNode\n",
    "from maro.simulator.scenarios import AbsBusinessEngine\n",
    "from maro.event_buffer import DECISION_EVENT\n",
    "from maro.simulator import Env"
   ]
  },
  {
   "cell_type": "markdown",
   "metadata": {},
   "source": [
    "## 1. Problem Setting"
   ]
  },
  {
   "cell_type": "markdown",
   "metadata": {},
   "source": [
    "To simplify this problem, we consider a situation where are only 4 bike stations."
   ]
  },
  {
   "cell_type": "code",
   "execution_count": 2,
   "metadata": {},
   "outputs": [],
   "source": [
    "TOTAL_STATIONS = 4"
   ]
  },
  {
   "cell_type": "markdown",
   "metadata": {},
   "source": [
    "The detailed trip requirement distribution among these stations are shown in the figure below. Here we use $F_{ij}(t)$ to present the trip requirements from station $i$ to station $j$.\n",
    "\n",
    "<img src=\"./simple_bike_repositioning/TripRequirements.png\" width=\"700\"/>\n",
    "\n",
    "The left half of this figure shows the trip requirement curve of each station pair $F_{ij}(t)$ over time $t$. We can find that:\n",
    "- $F_{02}(t)$ and $F_{20}(t)$ follow a symmetric and periodic transition pattern. In the first half of the period, $F_{02}(t)$ first increases from 0 to the maximum and then decreases to 0, while $F_{20}(t)$ remains at 0. In the second half of the period, $F_{20}(t)$ starts to increase and then decreases, while $F_{02}(t)$ remains at 0. \n",
    "- Generally speaking, $F_{13}(t)$ and $F_{31}(t)$ remains at the same level over time, with slight fluctuations only in a few times.\n",
    "- As for $F_{01}(t)$ and $F_{32}(t)$, they show stable and equal trip requirements.\n",
    "\n",
    "Specifically, we use sine functions to model these periodic changes, that we defined:\n",
    "\n",
    "$F_{02}(t) = \\max(0, 8 \\sin(0.1 t))$\n",
    "\n",
    "$F_{20}(t) = \\max(0, -8 \\sin(0.1 t))$\n",
    "\n",
    "$F_{13}(t) = 5 + \\max(0, 5 \\sin(0.2\\pi t) - 4) + \\min(0, 5 \\sin(0.2\\pi t) + 4)$\n",
    "\n",
    "$F_{31}(t) = 5 + \\max(0, 5 \\sin(0.4 t) - 4) + \\min(0, 5 \\sin(0.4 t) + 4)$\n",
    "\n",
    "$F_{01}(t) = 3$\n",
    "\n",
    "$F_{32}(t) = 3$"
   ]
  },
  {
   "cell_type": "code",
   "execution_count": 3,
   "metadata": {},
   "outputs": [],
   "source": [
    "max_0_2 = 8 # The maximum trip requirements between station 0 and station 2.\n",
    "exp_1_3 = 5 # The expected trip requirements between station 1 and station 3.\n",
    "const_num = 3 # The number of trip requirements from station 0 to station 1, from station 3 to station 2.\n",
    "\n",
    "def generate_station_requirements(tick: int):\n",
    "    # The number of trip requirements between station 0 and station 2 follows a sine function.\n",
    "    # Specifically, it is the F20(t) and F02(t) in the figure above.\n",
    "    num_between_0_2 = round(sin(0.1 * tick) * max_0_2)\n",
    "    requirements_between_0_2 = [(0, 2)] * num_between_0_2 if num_between_0_2 >= 0 else [(2, 0)] * -num_between_0_2\n",
    "\n",
    "    # The number of trip requirements between station 1 and station 3 are almostly equal (with only slight difference).\n",
    "    # Specifically, it is the F13(t) and F31(t) in the figure above.\n",
    "    num_1_3 = round(exp_1_3 + max(0, exp_1_3 * (sin(0.628 * tick) - 1) + 1) + min(0, exp_1_3 * (sin(0.628 * tick) + 1) - 1))\n",
    "    requirements_1_3 = [(1, 3)] * num_1_3\n",
    "    num_3_1 = round(exp_1_3 + max(0, exp_1_3 * (sin(0.4 * tick) - 1) + 1) + min(0, exp_1_3 * (sin(0.4 * tick) + 1) - 1))\n",
    "    requirements_3_1 = [(3, 1)] * num_3_1\n",
    "    \n",
    "    # The number of trip requirements from station 0 to station 1 and the ones from station 3 to station 2 are equal.\n",
    "    # Specifically, it is the F01(t) and F32(t) in the figure above.\n",
    "    const_requirements = [(0, 1)] * const_num + [(3, 2)] * const_num\n",
    "\n",
    "    # Randomly shuffle the order of trip requirements.\n",
    "    requirements = (requirements_between_0_2 + requirements_1_3 + requirements_3_1 + const_requirements)\n",
    "    random.shuffle(requirements)\n",
    "    return requirements"
   ]
  },
  {
   "cell_type": "markdown",
   "metadata": {},
   "source": [
    "Morever, for each trip and the bike repositioning operation, we assume that they can both be done no longer than 3 ticks. That:"
   ]
  },
  {
   "cell_type": "code",
   "execution_count": 4,
   "metadata": {},
   "outputs": [],
   "source": [
    "# The maximum trip duration. Unit: tick.\n",
    "maximum_duration = 3\n",
    "\n",
    "def generate_duration():\n",
    "    return random.randrange(1, maximum_duration)"
   ]
  },
  {
   "cell_type": "markdown",
   "metadata": {},
   "source": [
    "To ensure the bike number in this simple scenario is almost enough for trip requirements, we should take the time for trips and repositioning operations into consideration. Along with the peak requirement and the expectation of each station pair, we can roughly figure out the total bike demand in this problem. And then distribute these bikes equally to each station."
   ]
  },
  {
   "cell_type": "code",
   "execution_count": 5,
   "metadata": {},
   "outputs": [
    {
     "name": "stdout",
     "output_type": "stream",
     "text": [
      "Total bikes needed in this scenario: 96, intial station inventory: 24.\n"
     ]
    }
   ],
   "source": [
    "bike_needed_between_0_2 = max_0_2 * maximum_duration * 2\n",
    "bike_needed_between_1_3 = exp_1_3 * maximum_duration * 2\n",
    "bike_needed_const = const_num * maximum_duration * 2\n",
    "\n",
    "total_bike_needed = bike_needed_between_0_2 + bike_needed_between_1_3 + bike_needed_const\n",
    "\n",
    "# The initial bike number in each station\n",
    "INITIAL_BIKES = total_bike_needed // TOTAL_STATIONS\n",
    "\n",
    "print(f\"Total bikes needed in this scenario: {total_bike_needed}, intial station inventory: {INITIAL_BIKES}.\")"
   ]
  },
  {
   "cell_type": "markdown",
   "metadata": {},
   "source": [
    "## 2. Simulation Logics and Implementation"
   ]
  },
  {
   "cell_type": "markdown",
   "metadata": {},
   "source": [
    "To implement the simple bike repositioning scenario, we first define the class of the bike station. Here each station only contains 3 attributes:\n",
    "- `bikes`: The real-time available bikes in this station.\n",
    "- `shortage`: How many trip requirements is failed due to the lack of bikes till now.\n",
    "- `requirements`: How many trip requirements received till now."
   ]
  },
  {
   "cell_type": "code",
   "execution_count": 6,
   "metadata": {},
   "outputs": [],
   "source": [
    "# Definition of the bike station.\n",
    "# The attribute name can be used to access the environment snapshot lists.\n",
    "@node(\"station\")\n",
    "class Station(NodeBase):\n",
    "    bikes = NodeAttribute(\"i\")\n",
    "    shortage = NodeAttribute(\"i\")\n",
    "    requirements = NodeAttribute(\"i\")"
   ]
  },
  {
   "cell_type": "markdown",
   "metadata": {},
   "source": [
    "In MARO, we use the environment frame to save the environment status. To initialize the frame of this scenario, we need to specify how many stations we have and how many snapshots we need."
   ]
  },
  {
   "cell_type": "code",
   "execution_count": 7,
   "metadata": {},
   "outputs": [],
   "source": [
    "MAX_TICKS = 100\n",
    "\n",
    "# Definition of the environment frame. The number of stations is given here.\n",
    "class SimpleCitibikeFrame(FrameBase):\n",
    "    stations = FrameNode(Station, TOTAL_STATIONS)\n",
    "\n",
    "    def __init__(self):\n",
    "        super().__init__(enable_snapshot=True, total_snapshot=MAX_TICKS)"
   ]
  },
  {
   "cell_type": "markdown",
   "metadata": {},
   "source": [
    "In MARO, the simulator is driven by the generation and the processing of various events. In this simple scenario, we only take the trip requirement logic and the bike repositioning logic into consideration. Then only 3 scenario-dependent event types here:\n",
    "\n",
    "- `TRIP_REQUIREMENT_EVENT`: When trip requirement generated, a event with this type will be inserted into the event buffer to trigger the trip requirement handling logic.\n",
    "- `PENDING_DECISION_EVENT`: When the simulator want the agent to do a bike repositioning, it will throw a pending decision event. \n",
    "- `BIKE_ARRIVAL_EVENT`: Both a trip requirement fulfillment and a bike repositioning operation are paired with a bike arrival event. It means the trip is finished and the bike turns to be available in the destination station, and the bikes are successfully transported to the destination station respectively."
   ]
  },
  {
   "cell_type": "code",
   "execution_count": 8,
   "metadata": {},
   "outputs": [],
   "source": [
    "# Predefined event types\n",
    "TRIP_REQUIREMENT_EVENT = \"trip_requirement_event\"\n",
    "PENDING_DECISION_EVENT = \"pending_decision_event\"\n",
    "BIKE_ARRIVAL_EVENT = \"bike_arrival_event\""
   ]
  },
  {
   "cell_type": "code",
   "execution_count": 9,
   "metadata": {},
   "outputs": [],
   "source": [
    "# The event thrown by the environment to the agent, which is used to trigger the agent's decision.\n",
    "class PendingDecisionEvent():\n",
    "    def __init__(self, station_index: int):\n",
    "        self.station_index = station_index\n",
    "    \n",
    "    def __repr__(self):\n",
    "        return f\"<PendingDecisionEvent station: {self.station_index}>\""
   ]
  },
  {
   "cell_type": "markdown",
   "metadata": {},
   "source": [
    "### 2.1. The Trip Fulfillment Logic"
   ]
  },
  {
   "cell_type": "markdown",
   "metadata": {},
   "source": [
    "<img src=\"./simple_bike_repositioning/TripLogic.png\" width=\"700\"/>\n",
    "\n",
    "The figure above illustrate the trip fulfillment logic in this simple scenario:\n",
    "1. Each time, the simulator will generate several trip requirements according to the pattern we defined in the **Problem Setting** part. These trip requirements will then be inserted into the event buffer.\n",
    "2. Once the simulator get a trip requirement event from the event buffer, it will call the corresponding callback function to handle it.\n",
    "3. If there is available bike in the source station, the remaining bikes state of the source station will be updated and a future bike arrival event for the destination station will be generated and inserted into the event buffer. Else, a shortage of the source station is recorded.\n",
    "4. Once the simulator get a bike arrival event from the event buffer, it will call the corresponding callback function to handle it.\n",
    "5. The remaining bikes state of the station bike arrives will be updated."
   ]
  },
  {
   "cell_type": "markdown",
   "metadata": {},
   "source": [
    "### 2.2. The Bike Repositioning Decision Logic"
   ]
  },
  {
   "cell_type": "markdown",
   "metadata": {},
   "source": [
    "<img src=\"./simple_bike_repositioning/DecisionLogic.png\" width=\"700\"/>\n",
    "\n",
    "The figure above illustrate the bike repositioning logic in this simple scenario:\n",
    "1. Each time, the simulator will check the state of each station.\n",
    "2. When the station lack of bikes, the simulator will create an pending decision event and insert it into the event buffer.\n",
    "3. Once the simulator gets a pending decision event from the event buffer, it will throw it out to the agent to trigger the agent's bike repositioning actions.\n",
    "4. The agent can make bike repositioning decision and reply with the repositioning action to the simulator.\n",
    "5. Once the simulator get a repositioning action sent by the agent from the event buffer, it will call the corresponding handler function.\n",
    "6. The handler function of the repositioning action will update the state of the source station and create a corresponding bike arrival event for it."
   ]
  },
  {
   "cell_type": "markdown",
   "metadata": {},
   "source": [
    "The overall logic of this simple bike repositioning scenario and the hanlder functions are all defined as a `BusinessEngine`."
   ]
  },
  {
   "cell_type": "code",
   "execution_count": 10,
   "metadata": {},
   "outputs": [],
   "source": [
    "class SimpleCitibikeBusinessEngine(AbsBusinessEngine):\n",
    "    def __init__(self, **kwargs):\n",
    "        super().__init__(scenario_name=\"SimpleCitibike\", **kwargs)\n",
    "\n",
    "        self._frame = SimpleCitibikeFrame()\n",
    "        \n",
    "        # A number of station instances will be created after the initilization of the frame.\n",
    "        self._stations: List[Station] = self._frame.stations\n",
    "        self._intialize_stations()\n",
    "\n",
    "        # Register the event types and their handler functions.\n",
    "        self._event_buffer.register_event_handler(TRIP_REQUIREMENT_EVENT, self._on_requirement)\n",
    "        self._event_buffer.register_event_handler(BIKE_ARRIVAL_EVENT, self._on_arrive_station)\n",
    "        self._event_buffer.register_event_handler(DECISION_EVENT, self._on_action_recieved)\n",
    "\n",
    "    @property\n",
    "    def snapshots(self):\n",
    "        # The interface for the agents to access.\n",
    "        return self._frame.snapshots\n",
    "\n",
    "    @property\n",
    "    def frame(self):\n",
    "        # The interface for the agents to access.\n",
    "        return self._frame\n",
    "\n",
    "    def step(self, tick: int):\n",
    "        for station in self._stations:\n",
    "            if station.bikes == 0:\n",
    "                # For station without any bikes left, create a PENDING_DECISION_EVENT and insert it into the event buffer.\n",
    "                pending_decision_event = self._event_buffer.gen_cascade_event(tick, PENDING_DECISION_EVENT, PendingDecisionEvent(station.index))\n",
    "                self._event_buffer.insert_event(pending_decision_event)\n",
    "        \n",
    "        # Generate the trip requirements and insert them into the event buffer.\n",
    "        # A trip: (source station, destination station)\n",
    "        for source_station, destination_station in generate_station_requirements(tick):\n",
    "            requirement_event = self._event_buffer.gen_atom_event(tick, TRIP_REQUIREMENT_EVENT, (source_station, destination_station))\n",
    "            self._event_buffer.insert_event(requirement_event)\n",
    "\n",
    "    def reset(self):\n",
    "        self._frame.reset()\n",
    "        self._frame.snapshots.reset()\n",
    "        self._intialize_stations()\n",
    "        random.seed(1234)\n",
    "\n",
    "    def post_step(self, tick: int):\n",
    "        # Take and save the snapshot of the environment state at the end of each tick.\n",
    "        self._frame.take_snapshot(tick)\n",
    "        \n",
    "        # To end the simulation or not.\n",
    "        return tick == self._max_tick - 1\n",
    "\n",
    "    def _intialize_stations(self):\n",
    "        for station in self._stations:\n",
    "            station.bikes = INITIAL_BIKES\n",
    "\n",
    "    def _on_requirement(self, event):\n",
    "        src_station_index, dest_station_index = event.payload\n",
    "        station: Station = self._stations[src_station_index]\n",
    "        station.requirements += 1\n",
    "        \n",
    "        if station.bikes < 1:\n",
    "            # No bike left, a shortage is recorded.\n",
    "            station.shortage += 1\n",
    "        else:\n",
    "            # Fulfilled the trip requirement.\n",
    "            station.bikes -= 1\n",
    "            \n",
    "            # Generate the BIKE_ARRIVAL_EVENT and insert it into the event buffer.\n",
    "            bike_arrive_event = self._event_buffer.gen_atom_event(event.tick + generate_duration(), BIKE_ARRIVAL_EVENT, (dest_station_index, 1))\n",
    "            self._event_buffer.insert_event(bike_arrive_event)\n",
    "\n",
    "    def _on_arrive_station(self, event):\n",
    "        # The handler for BIKE_ARRIVAL_EVENT, which includes both the ending of a trip and the repositioning of the bikes.\n",
    "        station_index, number = event.payload\n",
    "        station = self._stations[station_index]\n",
    "        station.bikes += number\n",
    "\n",
    "    def _on_action_recieved(self, event):\n",
    "        # The repositioning action from agent.\n",
    "        action = event.payload\n",
    "                \n",
    "        if action:\n",
    "            src_station_index, target_station_index, number = action\n",
    "            station = self._stations[src_station_index]\n",
    "            station.bikes -= number\n",
    "\n",
    "            # Generate the BIKE_ARRIVAL_EVENT and insert it into the event buffer.\n",
    "            arrive_event = self._event_buffer.gen_atom_event(event.tick + generate_duration(), BIKE_ARRIVAL_EVENT, (target_station_index, number))\n",
    "            self._event_buffer.insert_event(arrive_event)"
   ]
  },
  {
   "cell_type": "markdown",
   "metadata": {},
   "source": [
    "## 3. Rule-Based Solution to This Problem"
   ]
  },
  {
   "cell_type": "markdown",
   "metadata": {},
   "source": [
    "### 3.1 Problem Analysis"
   ]
  },
  {
   "cell_type": "markdown",
   "metadata": {},
   "source": [
    "### 3.2 Implementation"
   ]
  },
  {
   "cell_type": "markdown",
   "metadata": {},
   "source": [
    "### 3.3 Interaction with the Environment"
   ]
  },
  {
   "cell_type": "code",
   "execution_count": 11,
   "metadata": {},
   "outputs": [],
   "source": [
    "MAX_EPISODE = 2"
   ]
  },
  {
   "cell_type": "code",
   "execution_count": 12,
   "metadata": {},
   "outputs": [
    {
     "name": "stdout",
     "output_type": "stream",
     "text": [
      "current episode: 0\n",
      "total requirements: 106,598\n",
      "total shortage: 47,501\n",
      "\n",
      "current episode: 1\n",
      "total requirements: 106,598\n",
      "total shortage: 47,501\n",
      "\n"
     ]
    }
   ],
   "source": [
    "# Initialize an environment instance with the predefined SimpleCitibikeBusinessEngine.\n",
    "env = Env(durations=MAX_TICKS, business_engine_cls=SimpleCitibikeBusinessEngine)\n",
    "\n",
    "station_snapshots = env.snapshot_list[\"station\"]\n",
    "\n",
    "for ep in range(MAX_EPISODE):\n",
    "    # Random seed is set in the reset function.\n",
    "    env.reset()\n",
    "    \n",
    "    is_done = False\n",
    "    action = None\n",
    "    \n",
    "    print(\"current episode:\", ep)\n",
    "\n",
    "    while not is_done:\n",
    "        metrics, decision_evt, is_done = env.step(action)\n",
    "        action = None\n",
    "        \n",
    "    # Using [tick(s) : node index(s) : attribute(s)] to access the environment snapshots.\n",
    "    # The return is a Numpy array with shape (ticks * nodes * attributes * slots, )\n",
    "    all_shortage = station_snapshots[::\"shortage\"]\n",
    "    all_requirement = station_snapshots[::\"requirements\"]\n",
    "\n",
    "    print(f\"total requirements: {int(all_requirement.sum()):,}\")\n",
    "    print(f\"total shortage: {int(all_shortage.sum()):,}\")\n",
    "    print()"
   ]
  }
 ],
 "metadata": {
  "kernelspec": {
   "display_name": "Python 3",
   "language": "python",
   "name": "python3"
  },
  "language_info": {
   "codemirror_mode": {
    "name": "ipython",
    "version": 3
   },
   "file_extension": ".py",
   "mimetype": "text/x-python",
   "name": "python",
   "nbconvert_exporter": "python",
   "pygments_lexer": "ipython3",
   "version": "3.7.7"
  }
 },
 "nbformat": 4,
 "nbformat_minor": 4
}
